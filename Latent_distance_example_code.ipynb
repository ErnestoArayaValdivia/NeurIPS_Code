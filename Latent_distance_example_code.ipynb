{
 "cells": [
  {
   "cell_type": "code",
   "execution_count": 3,
   "metadata": {},
   "outputs": [],
   "source": [
    "import itertools\n",
    "import math\n",
    "import random \n",
    "import numpy as np\n",
    "import scipy as sp\n",
    "import seaborn as sns\n",
    "import matplotlib.pyplot as plt\n",
    "from numpy import linalg as LA\n",
    "from scipy.special import comb\n",
    "\n",
    "def sample_spherical(npoints, ndim):#sample points on the sphere\n",
    "    vec = np.random.randn(ndim, npoints)\n",
    "    vec /= np.linalg.norm(vec, axis=0)\n",
    "    return vec\n",
    "def harmonic_eigespcDim(d,l):#spherical harmonics dimensions\n",
    "    return comb(l+d-1,l)-comb(l+d-3,l-2)\n",
    "def cluster_esp1(eigvals, dim_esp1):#cluster algorithm\n",
    "    actualpoint=0\n",
    "    gap=0\n",
    "    for i in range(1,len(eigvals)-dim_esp1-1):\n",
    "        vi=np.abs(eigvals[i]-eigvals[i-1])\n",
    "        vii=np.abs(eigvals[i+dim_esp1]-eigvals[i+dim_esp1-1])\n",
    "        g=min(vi,vii)\n",
    "        if g>=gap:\n",
    "            gap=g\n",
    "            actualpoint=i\n",
    "    if np.abs(eigvals[len(eigvals)-dim_esp1]-eigvals[len(eigvals)-dim_esp1-1])>=gap:\n",
    "        gap=g\n",
    "        actualpoint=len(eigvals)-dim_esp1\n",
    "    return [actualpoint,gap]\n",
    "def estimator_Gram(arrayEigvec,dimEigspc,firsteig):\n",
    "    rr=np.zeros((len(arrayEigvec[:,0]),len(arrayEigvec[:,0])))\n",
    "    if dimEigspc+firsteig<len(arrayEigvec[:,0]):\n",
    "        for i in range(firsteig,dimEigspc+firsteig):\n",
    "            rr=rr+np.outer(arrayEigvec[:,i],arrayEigvec[:,i])\n",
    "    return rr\n",
    "@np.vectorize\n",
    "def funcexample1(x):#classic angular RGG\n",
    "    y=0\n",
    "    if x>=0:\n",
    "        y=1\n",
    "    return y "
   ]
  },
  {
   "cell_type": "code",
   "execution_count": 4,
   "metadata": {},
   "outputs": [],
   "source": [
    "#Algorithm HEiC example \n",
    "npoints=100#sample size\n",
    "rho_n=1# definition scale parameter \n",
    "d=3#sphere dimension\n",
    "X=sample_spherical(npoints,d)\n",
    "Gr=np.matmul(np.transpose(X),X) #This is the Gram matrix of the sample points\n",
    "Theta=rho_n*funcexample1(Gr)\n",
    "Theta[Theta<0]=0\n",
    "Theta[Theta>1]=1 #just to avoid rounding problems \n",
    "Ber=np.random.binomial(1,Theta)\n",
    "Graph=np.triu(Ber)+np.transpose(np.triu(Ber))-np.eye(npoints)\n",
    "normGraph=(1/npoints)*Graph\n",
    "eigvalGraph,eigvecGraph=LA.eig(normGraph)\n",
    "eigvalGraph=np.real(eigvalGraph)\n",
    "eigvecGraph=np.real(eigvecGraph)\n",
    "idx = eigvalGraph.argsort()[::-1]   \n",
    "eigenValues = eigvalGraph[idx] #sort the eigenvalues\n",
    "eigenVectors = eigvecGraph[:,idx]\n",
    "[actual,gapo]=cluster_esp1(eigenValues, d)#subspace recovery\n",
    "space1dim=int(harmonic_eigespcDim(d,1))\n",
    "estMatGram=estimator_Gram(eigenVectors,d,actual)\n",
    "scal1_estMatGram=(npoints/space1dim)*estMatGram \n",
    "np.fill_diagonal(scal1_estMatGram,1)\n",
    "meanError=LA.norm(Gr-scal1_estMatGram)/npoints**2 #mean error with the Frobenius norm--other norms possible, see numpy.linalg.norm doc\n"
   ]
  },
  {
   "cell_type": "code",
   "execution_count": 8,
   "metadata": {},
   "outputs": [],
   "source": [
    "#Example to generate errorboxplot\n",
    "d=3\n",
    "ranges=20\n",
    "npointsv=np.array([10,50,100,200,500,1000,2000])#,5000,10000])#put there the samples sizes we want to iterate\n",
    "Err1=np.zeros((ranges,len(npointsv)))\n",
    "vareigen=np.zeros(2000)\n",
    "count=0\n",
    "for npoints in npointsv:\n",
    "    cicles=0\n",
    "    for i in range(0,ranges):\n",
    "        X=sample_spherical(npoints,d)\n",
    "        Gr=np.matmul(np.transpose(X),X) #This is the Gram matrix of the sample points #Theta=poly(funcs,Gr)\n",
    "        Theta=funcexample1(Gr)\n",
    "        Theta[Theta<0]=0\n",
    "        Theta[Theta>1]=1 \n",
    "        Ber=np.random.binomial(1,Theta)\n",
    "        Graph=np.triu(Ber)+np.transpose(np.triu(Ber))-np.eye(npoints)\n",
    "        normGraph=(1/npoints)*Graph\n",
    "        eigvalGraph,eigvecGraph=LA.eig(normGraph)\n",
    "        eigvalGraph=np.real(eigvalGraph)\n",
    "        eigvecGraph=np.real(eigvecGraph)\n",
    "        idx = eigvalGraph.argsort()[::-1]   \n",
    "        eigenValues = eigvalGraph[idx]\n",
    "        eigenVectors = eigvecGraph[:,idx]\n",
    "        [actual,gapo]=cluster_esp1(eigenValues,d)\n",
    "        estMatGram=estimator_Gram(eigenVectors,d,actual)\n",
    "        scal1_estMatGram=(npoints/d)*estMatGram #scaling by the formula \n",
    "        np.fill_diagonal(scal1_estMatGram,1)#change diagonal values to 1\n",
    "        meanError2=LA.norm(Gr-scal1_estMatGram)/npoints**2\n",
    "        Err1[i,count]=meanError2#**2\n",
    "        vareigen[0+cicles:d+cicles]=eigenValues[1:d+1]\n",
    "        cicles=cicles+1\n",
    "    count=count+1"
   ]
  },
  {
   "cell_type": "code",
   "execution_count": 10,
   "metadata": {},
   "outputs": [
    {
     "data": {
      "image/png": "[encoded data removed]",
      "text/plain": [
       "<Figure size 720x576 with 1 Axes>"
      ]
     },
     "metadata": {
      "needs_background": "light"
     },
     "output_type": "display_data"
    }
   ],
   "source": [
    "import matplotlib.patches as mpatches\n",
    "import pandas as pd\n",
    "#equation = 'log(MSE(n))= ' + 'log'+str(1.1) + '+' + str(2.87)+'x' 'log n'\n",
    "#df = pd.DataFrame(data=np.log(Er2[0:25]))\n",
    "df = pd.DataFrame(data=np.log(Err1))\n",
    "df.columns= ['10','50','100','200','500','1000','2000']#,'5000','10000']\n",
    "fig, ax = plt.subplots(figsize=(10,8))\n",
    "ax = sns.boxplot(ax=ax, data=df,palette=\"Blues\")\n",
    "ax.set_xlabel(\"$n$ (sample size)\",fontsize=23)\n",
    "ax.set_ylabel(\"log(Mean error)\",fontsize=23)\n",
    "##plt.plot(ix,y,'r')\n",
    "#ax.set(xlabel='$n$ (sample size)',ylabel='log(Mean error)')\n",
    "#plt.text(0.8, 0.9,equation, horizontalalignment='center',\n",
    "   #  verticalalignment='center',\n",
    "   #  transform=ax.transAxes)\n",
    "##red_patch = mpatches.Patch(color='red', label=equation)\n",
    "##plt.legend(handles=[red_patch],prop={'size': 17})\n",
    "\n",
    "plt.show()"
   ]
  },
  {
   "cell_type": "code",
   "execution_count": 11,
   "metadata": {},
   "outputs": [],
   "source": [
    "#Dimension recovery \n",
    "npoints=1000\n",
    "maxiter=30\n",
    "dmax=20\n",
    "Gap=np.zeros((maxiter,dmax))\n",
    "for aux in range(0,maxiter):\n",
    "    d=3#d to generate data\n",
    "    X=sample_spherical(npoints,d)\n",
    "    Gr=np.matmul(np.transpose(X),X) #This is the Gram matrix of the sample points\n",
    "    Theta=funcexample1(Gr) #the probability matrix....\n",
    "    Theta[Theta<0]=0\n",
    "    Theta[Theta>1]=1 #this step can be replaced by a preprocesing---To be done---\n",
    "    Ber=np.random.binomial(1,Theta)\n",
    "    Graph=np.triu(Ber)+np.transpose(np.triu(Ber))#-np.eye(npoints)\n",
    "    normGraph=(1/npoints)*Graph\n",
    "    eigvalGraph,eigvecGraph=LA.eig(normGraph)\n",
    "    eigvalGraph=np.real(eigvalGraph)\n",
    "    eigvecGraph=np.real(eigvecGraph)\n",
    "    idx = eigvalGraph.argsort()[::-1]   \n",
    "    eigenValues = eigvalGraph[idx]\n",
    "    eigenVectors = eigvecGraph[:,idx]\n",
    "    DS=np.zeros(dmax)\n",
    "    for dd in range(1,dmax-1):\n",
    "        [actual,gapo]=cluster_esp1(eigenValues, dd)\n",
    "        DS[dd]=gapo\n",
    "        Gap[aux,dd]=gapo\n",
    "        "
   ]
  },
  {
   "cell_type": "code",
   "execution_count": 12,
   "metadata": {},
   "outputs": [
    {
     "data": {
      "image/png": "[encoded data removed]",
      "text/plain": [
       "<Figure size 720x576 with 1 Axes>"
      ]
     },
     "metadata": {
      "needs_background": "light"
     },
     "output_type": "display_data"
    }
   ],
   "source": [
    "#to generate plot for dimension recovery\n",
    "df = pd.DataFrame(data=Gap)\n",
    "fig, ax = plt.subplots(figsize=(10,8))\n",
    "ax = sns.boxplot(ax=ax, data=df)\n",
    "ax.set_xlabel(\"$d$ (dimension)\",fontsize=25)\n",
    "ax.set_ylabel(\"Score\",fontsize=25)\n",
    "plt.show()"
   ]
  }
 ],
 "metadata": {
  "kernelspec": {
   "display_name": "Python 3",
   "language": "python",
   "name": "python3"
  },
  "language_info": {
   "codemirror_mode": {
    "name": "ipython",
    "version": 3
   },
   "file_extension": ".py",
   "mimetype": "text/x-python",
   "name": "python",
   "nbconvert_exporter": "python",
   "pygments_lexer": "ipython3",
   "version": "3.7.2"
  }
 },
 "nbformat": 4,
 "nbformat_minor": 2
}
